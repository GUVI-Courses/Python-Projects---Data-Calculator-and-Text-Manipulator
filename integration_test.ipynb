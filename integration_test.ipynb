{
 "cells": [
  {
   "cell_type": "code",
   "execution_count": null,
   "metadata": {},
   "outputs": [],
   "source": [
    "import unittest\n",
    "\n",
    "from dataCal import *\n",
    "\n",
    "\n",
    "class TestIntegration(unittest.TestCase):\n",
    "\n",
    "    def test_basic_operations(self):\n",
    "        self.assertEqual(add([5,3,2,5,5]), 20)\n",
    "        self.assertEqual(subtract([5,3,2,5,5]), -10)\n",
    "        self.assertEqual(multiply([5,3,2,5,5]), 750)\n",
    "        self.assertEqual(divide(10, 2),5)\n",
    "        self.assertEqual(divide(10, 0),\"Error ! Division by 0\")\n",
    "\n",
    "    def test_advanced_operations(self):\n",
    "        self.assertEqual(exponentiate(2, 3), 8)\n",
    "        self.assertEqual(square(5), 25)\n",
    "        self.assertEqual(sqrt(16), 4)\n",
    "        self.assertEqual(sqrt(-16), \"Error! Square Root of a negative number\")\n",
    "        self.assertEqual(factorial(4), 24)\n",
    "        self.assertEqual(factorial(0), 1)\n",
    "        self.assertEqual(factorial(-10), \"Error! Factorial of a negative number\")\n",
    "        self.assertEqual(inverse(100), 0.01)\n",
    "        self.assertEqual(inverse(0), \"Error! Inverse of zero\")\n",
    "        self.assertEqual(log_base_10(15),                         1.1760912590556813)\n",
    "        self.assertEqual(log_base_10(-15), \"Error! Logarithm of a non positive number\")\n",
    "        self.assertEqual(log_base_N(15),                         2.70805020110221)\n",
    "        self.assertEqual(log_base_N(-15), \"Error! Logarithm of a non positive number\")\n",
    "        self.assertEqual(sin(10), 0.17364817766693033)\n",
    "        self.assertEqual(cos(10), 0.984807753012208)\n",
    "        self.assertEqual(tan(10), 0.17632698070846498)\n",
    "        self.assertEqual(rad_to_deg(1.00000),                     57.29577951308232)\n",
    "        self.assertEqual(deg_to_rad(57.29577951308232),                 1.00000)\n",
    "    \n",
    "if __name__ == '__main__':\n",
    "    unittest.main()\n",
    "\n",
    " #to run: python -m unittest integration_test.py\n",
    "\n",
    "\n",
    "#for reference:\n",
    "#    def test_combined_operations(self):\n",
    "        # Example of combining basic and advanced operations\n",
    " #       self.assertEqual(add(multiply(2, 3), power(2, 3)), 14)\n",
    "  #      self.assertAlmostEqual(subtract(log_base_10(1000), log_base_n(8, 2)), 1, places=7)\n",
    "   \n",
    "\n"
   ]
  }
 ],
 "metadata": {
  "language_info": {
   "name": "python"
  }
 },
 "nbformat": 4,
 "nbformat_minor": 2
}
