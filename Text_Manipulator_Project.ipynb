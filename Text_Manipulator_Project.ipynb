{
  "cells": [
    {
      "cell_type": "code",
      "execution_count": null,
      "metadata": {
        "id": "ZWRHYprSfzs6"
      },
      "outputs": [],
      "source": []
    },
    {
      "cell_type": "markdown",
      "metadata": {
        "id": "v2x38Wp-gB3B"
      },
      "source": [
        "Basic Operations"
      ]
    },
    {
      "cell_type": "markdown",
      "metadata": {
        "id": "w9D0RIfjgFmR"
      },
      "source": [
        "to_upper() function"
      ]
    },
    {
      "cell_type": "code",
      "execution_count": null,
      "metadata": {
        "colab": {
          "base_uri": "https://localhost:8080/"
        },
        "id": "V9G9dgsRgPEY",
        "outputId": "bedb7afd-3b66-4075-f799-17dc6c3b614b"
      },
      "outputs": [
        {
          "name": "stdout",
          "output_type": "stream",
          "text": [
            "Converted text: PYTHON TEXT MANIPULATOR PROJECT\n"
          ]
        }
      ],
      "source": [
        "def to_upper(text):\n",
        "  return text.upper()\n",
        "\n",
        "text=\"python text manipulator project\"\n",
        "print(\"Converted text:\", to_upper(text))\n"
      ]
    },
    {
      "cell_type": "markdown",
      "metadata": {
        "id": "pCrvA9hShBIl"
      },
      "source": [
        "to_lower()/to_tilte/to_capitalize/to_swapcase"
      ]
    },
    {
      "cell_type": "code",
      "execution_count": null,
      "metadata": {
        "colab": {
          "base_uri": "https://localhost:8080/"
        },
        "id": "mkTDITPUhJms",
        "outputId": "0ea96a34-135b-4d9e-b3f3-76202f5ac4a8"
      },
      "outputs": [
        {
          "name": "stdout",
          "output_type": "stream",
          "text": [
            "Converted text: python TEXT manipulator PROJECT\n"
          ]
        }
      ],
      "source": [
        "def to_swapcase(text):\n",
        "  return text.swapcase()\n",
        "\n",
        "text=\"PYTHON text MANIPULATOR project\"\n",
        "print(\"Converted text:\", to_swapcase(text))"
      ]
    },
    {
      "cell_type": "markdown",
      "metadata": {
        "id": "pDVf28ZMh9Sd"
      },
      "source": [
        "boolean functions - find_isalpha(),find_isalnum(),find_isnumeric(),find_isdigit(),find_isdecimal()"
      ]
    },
    {
      "cell_type": "code",
      "execution_count": null,
      "metadata": {
        "colab": {
          "base_uri": "https://localhost:8080/"
        },
        "id": "KrzYfea7iPTm",
        "outputId": "65480f84-1df5-497b-f185-8eeb29591307"
      },
      "outputs": [
        {
          "name": "stdout",
          "output_type": "stream",
          "text": [
            "Converted text: True\n"
          ]
        }
      ],
      "source": [
        "def find_isalpha(text):\n",
        "  return text.isalpha()\n",
        "\n",
        "text = \"Python\"\n",
        "print(\"Converted text:\", find_isalpha(text))"
      ]
    },
    {
      "cell_type": "code",
      "execution_count": null,
      "metadata": {
        "colab": {
          "base_uri": "https://localhost:8080/"
        },
        "id": "KYrTwvz3itvq",
        "outputId": "89abbf0c-ba4c-4c60-b12d-df62f37d7c1c"
      },
      "outputs": [
        {
          "name": "stdout",
          "output_type": "stream",
          "text": [
            "Converted text: True\n"
          ]
        }
      ],
      "source": [
        "def find_isdecimal(text):\n",
        "  return text.isdecimal()\n",
        "\n",
        "text = \"123\"\n",
        "print(\"Converted text:\", find_isdecimal(text))"
      ]
    },
    {
      "cell_type": "markdown",
      "metadata": {
        "id": "zG9EDVFojlsh"
      },
      "source": [
        "find_endswith(), find_startswith()"
      ]
    },
    {
      "cell_type": "code",
      "execution_count": null,
      "metadata": {
        "colab": {
          "base_uri": "https://localhost:8080/"
        },
        "id": "Yk_v3xKtjtD_",
        "outputId": "f2b57d9d-7c27-446a-b86c-3600d53bc9cb"
      },
      "outputs": [
        {
          "name": "stdout",
          "output_type": "stream",
          "text": [
            "Converted text: False\n"
          ]
        }
      ],
      "source": [
        "def find_endswith(text,string):\n",
        "  return text.endswith(string)\n",
        "\n",
        "text = \"python text manipulator project!\"\n",
        "print(\"Converted text:\", find_endswith(text,\".\"))"
      ]
    },
    {
      "cell_type": "code",
      "execution_count": null,
      "metadata": {
        "colab": {
          "base_uri": "https://localhost:8080/"
        },
        "id": "daAUQvl0kW2c",
        "outputId": "801e61a7-3b7f-4d5b-81bd-0335a96765d8"
      },
      "outputs": [
        {
          "name": "stdout",
          "output_type": "stream",
          "text": [
            "Converted text: False\n"
          ]
        }
      ],
      "source": [
        "def find_startswith(text,string):\n",
        "  return text.startswith(string)\n",
        "\n",
        "text = \"......python text manipulator project!\"\n",
        "print(\"Converted text:\", find_startswith(text,\"!\"))"
      ]
    },
    {
      "cell_type": "markdown",
      "metadata": {
        "id": "uweI2Lt8knQx"
      },
      "source": [
        "align_center()"
      ]
    },
    {
      "cell_type": "code",
      "execution_count": null,
      "metadata": {
        "colab": {
          "base_uri": "https://localhost:8080/"
        },
        "id": "LyHId7bmkpKG",
        "outputId": "e0375b15-9e48-4ae7-c37d-47407a28d3ab"
      },
      "outputs": [
        {
          "name": "stdout",
          "output_type": "stream",
          "text": [
            "Result:                                   python text manipulator project!                                  \n"
          ]
        }
      ],
      "source": [
        "def align_center(text,space):\n",
        "  return text.center(space)\n",
        "\n",
        "text = \"python text manipulator project!\"\n",
        "print(\"Result:\", align_center(text,100))"
      ]
    },
    {
      "cell_type": "markdown",
      "metadata": {
        "id": "9A_sGN59lDrn"
      },
      "source": [
        "count_occurance()"
      ]
    },
    {
      "cell_type": "code",
      "execution_count": null,
      "metadata": {
        "colab": {
          "base_uri": "https://localhost:8080/"
        },
        "id": "m98FkIhZlG-I",
        "outputId": "ee03faa6-c8e1-4ab3-aefe-9f9f49d48e3b"
      },
      "outputs": [
        {
          "name": "stdout",
          "output_type": "stream",
          "text": [
            "Result: 2\n"
          ]
        }
      ],
      "source": [
        "def count_occurance(text,string):\n",
        "  return text.count(string)\n",
        "\n",
        "text = \"python text manipulator project! this project is amazing\"\n",
        "print(\"Result:\", count_occurance(text,\"project\"))"
      ]
    },
    {
      "cell_type": "markdown",
      "metadata": {
        "id": "Jb5wCxQmlrkK"
      },
      "source": [
        "find_index()"
      ]
    },
    {
      "cell_type": "code",
      "execution_count": null,
      "metadata": {
        "colab": {
          "base_uri": "https://localhost:8080/"
        },
        "id": "V8r_dCv3luPw",
        "outputId": "ee688981-5ad0-4bc5-95d5-5b962cbe3fcb"
      },
      "outputs": [
        {
          "name": "stdout",
          "output_type": "stream",
          "text": [
            "Result: 12\n"
          ]
        }
      ],
      "source": [
        "def find_index(text,string):\n",
        "  return text.index(string)\n",
        "\n",
        "text = \"python text manipulator project! this project is amazing\"\n",
        "print(\"Result:\", find_index(text,\"manipulator\"))"
      ]
    },
    {
      "cell_type": "markdown",
      "metadata": {
        "id": "IOAWy_OWmA6m"
      },
      "source": [
        "perform_join()"
      ]
    },
    {
      "cell_type": "code",
      "execution_count": null,
      "metadata": {
        "colab": {
          "base_uri": "https://localhost:8080/"
        },
        "id": "hGXRWa4DmDFT",
        "outputId": "7644c87e-7006-4188-dbbd-9ce10ad9bccf"
      },
      "outputs": [
        {
          "name": "stdout",
          "output_type": "stream",
          "text": [
            "Result: python_text_manipulator_project\n"
          ]
        }
      ],
      "source": [
        "def perform_join(tuple,separator):\n",
        "  return separator.join(tuple)\n",
        "\n",
        "text = (\"python\",\"text\",\"manipulator\",'project')\n",
        "print(\"Result:\", perform_join(text,\"_\"))"
      ]
    },
    {
      "cell_type": "markdown",
      "metadata": {
        "id": "40d_b_aemra_"
      },
      "source": [
        "perform_split()"
      ]
    },
    {
      "cell_type": "code",
      "execution_count": null,
      "metadata": {
        "colab": {
          "base_uri": "https://localhost:8080/"
        },
        "id": "xOukVngQmtl5",
        "outputId": "296990ba-18d0-4080-b57d-015dbf33d752"
      },
      "outputs": [
        {
          "name": "stdout",
          "output_type": "stream",
          "text": [
            "Result: ['python text manipulator project ', ' this project is amazing']\n"
          ]
        }
      ],
      "source": [
        "def perform_split(text,separator):\n",
        "  return text.split(separator)\n",
        "\n",
        "text = \"python text manipulator project ! this project is amazing\"\n",
        "print(\"Result:\", perform_split(text,\"!\"))"
      ]
    },
    {
      "cell_type": "markdown",
      "metadata": {
        "id": "wO_61aGUnV0x"
      },
      "source": [
        "perform_partition()"
      ]
    },
    {
      "cell_type": "code",
      "execution_count": null,
      "metadata": {
        "colab": {
          "base_uri": "https://localhost:8080/"
        },
        "id": "3BFhtRQpnc2m",
        "outputId": "dbbc20f3-1960-4a93-f189-a25e91c47acb"
      },
      "outputs": [
        {
          "name": "stdout",
          "output_type": "stream",
          "text": [
            "Result: ('python text manipulator project ', '!', ' this project is amazing')\n"
          ]
        }
      ],
      "source": [
        "def perform_partition(text,string):\n",
        "  return text.partition(string)\n",
        "\n",
        "text = \"python text manipulator project ! this project is amazing\"\n",
        "print(\"Result:\", perform_partition(text,\"!\"))"
      ]
    },
    {
      "cell_type": "markdown",
      "metadata": {
        "id": "IxOeJrkFnz64"
      },
      "source": [
        "perform_replace()"
      ]
    },
    {
      "cell_type": "code",
      "execution_count": null,
      "metadata": {
        "colab": {
          "base_uri": "https://localhost:8080/"
        },
        "id": "t_xsTBtUn2UU",
        "outputId": "187c1c22-9162-464c-b55b-301ee07d6e88"
      },
      "outputs": [
        {
          "name": "stdout",
          "output_type": "stream",
          "text": [
            "Result: python data manipulator project ! this project is amazing\n"
          ]
        }
      ],
      "source": [
        "def perform_replace(text,oldval,newval):\n",
        "  return text.replace(oldval,newval)\n",
        "\n",
        "text = \"python text manipulator project ! this project is amazing\"\n",
        "print(\"Result:\", perform_replace(text,\"text\",\"data\"))"
      ]
    },
    {
      "cell_type": "markdown",
      "metadata": {
        "id": "OMC1nNn7oOdN"
      },
      "source": [
        "perform_strip()"
      ]
    },
    {
      "cell_type": "code",
      "execution_count": null,
      "metadata": {
        "colab": {
          "base_uri": "https://localhost:8080/"
        },
        "id": "PvwcLu5KoQic",
        "outputId": "9fc88371-4d3e-4922-ea25-43a6443853aa"
      },
      "outputs": [
        {
          "name": "stdout",
          "output_type": "stream",
          "text": [
            "Result: python\n"
          ]
        }
      ],
      "source": [
        "def perform_strip(text):\n",
        "  return text.strip()\n",
        "\n",
        "text = \"                    python            \"\n",
        "print(\"Result:\", perform_strip(text))"
      ]
    },
    {
      "cell_type": "markdown",
      "metadata": {
        "id": "cQhAaUbbouWi"
      },
      "source": [
        "perform_maketrans() and perform_translate()"
      ]
    },
    {
      "cell_type": "code",
      "execution_count": null,
      "metadata": {
        "colab": {
          "base_uri": "https://localhost:8080/"
        },
        "id": "AMgUqLUQo5b8",
        "outputId": "b35c8af1-73d6-452d-a15c-7c63ca6d0cf6"
      },
      "outputs": [
        {
          "name": "stdout",
          "output_type": "stream",
          "text": [
            "Result: Date Program\n"
          ]
        }
      ],
      "source": [
        "def perform_maketrans(x,y):\n",
        "  return str.maketrans(x,y)\n",
        "\n",
        "def perform_translate(text):\n",
        "  return text.translate(perform_maketrans(x,y))\n",
        "\n",
        "text =\"Text Program\"\n",
        "x = \"exTt\"\n",
        "y=\"atDe\"\n",
        "print(\"Result:\", perform_translate(text))"
      ]
    },
    {
      "cell_type": "markdown",
      "metadata": {
        "id": "mJa9N1Jqp31C"
      },
      "source": [
        "Basic Text Manipulator"
      ]
    },
    {
      "cell_type": "code",
      "execution_count": null,
      "metadata": {
        "colab": {
          "base_uri": "https://localhost:8080/"
        },
        "id": "Q2t5LTn2p7t3",
        "outputId": "03c99998-e0b1-4e37-efd1-ea18ec3bd18f"
      },
      "outputs": [
        {
          "name": "stdout",
          "output_type": "stream",
          "text": [
            "\n",
            "Basic Text Manipulator\n",
            "1. Convert text to uppercase\n",
            "2. Find if text is alphanumeric\n",
            "3. Find if text endswith\n",
            "4. Center Align\n",
            "5. Count the occurnace\n",
            "6. Find Index\n",
            "7. Perform Join\n",
            "8. Perform Split\n",
            "9. Perform Partition\n",
            "10. Perform Replace\n",
            "11. Perform Strip\n",
            "12. Perform Translate\n",
            "13. Exit\n",
            "Enter your choice: 12\n",
            "Result:Date Program\n",
            "\n",
            "Basic Text Manipulator\n",
            "1. Convert text to uppercase\n",
            "2. Find if text is alphanumeric\n",
            "3. Find if text endswith\n",
            "4. Center Align\n",
            "5. Count the occurnace\n",
            "6. Find Index\n",
            "7. Perform Join\n",
            "8. Perform Split\n",
            "9. Perform Partition\n",
            "10. Perform Replace\n",
            "11. Perform Strip\n",
            "12. Perform Translate\n",
            "13. Exit\n",
            "Enter your choice: 12\n",
            "Result:Date Program\n",
            "\n",
            "Basic Text Manipulator\n",
            "1. Convert text to uppercase\n",
            "2. Find if text is alphanumeric\n",
            "3. Find if text endswith\n",
            "4. Center Align\n",
            "5. Count the occurnace\n",
            "6. Find Index\n",
            "7. Perform Join\n",
            "8. Perform Split\n",
            "9. Perform Partition\n",
            "10. Perform Replace\n",
            "11. Perform Strip\n",
            "12. Perform Translate\n",
            "13. Exit\n",
            "Enter your choice: 12\n",
            "Result:Date Program\n",
            "\n",
            "Basic Text Manipulator\n",
            "1. Convert text to uppercase\n",
            "2. Find if text is alphanumeric\n",
            "3. Find if text endswith\n",
            "4. Center Align\n",
            "5. Count the occurnace\n",
            "6. Find Index\n",
            "7. Perform Join\n",
            "8. Perform Split\n",
            "9. Perform Partition\n",
            "10. Perform Replace\n",
            "11. Perform Strip\n",
            "12. Perform Translate\n",
            "13. Exit\n",
            "Enter your choice: 13\n"
          ]
        }
      ],
      "source": [
        "def to_upper(text):\n",
        "    return text.upper()\n",
        "\n",
        "def find_isalnum(text):\n",
        "    return text.isalnum()\n",
        "\n",
        "def find_endswith(text,string):\n",
        "    return text.startswith(string)\n",
        "\n",
        "def align_center(text,space):\n",
        "    return text.center(space)\n",
        "\n",
        "def count_occurance(text,string):\n",
        "    return text.count(string)\n",
        "\n",
        "def find_index(text,string):\n",
        "    return text.index(string)\n",
        "\n",
        "def perform_join(tuple,separator):\n",
        "    return separator.join(tuple)\n",
        "\n",
        "def perform_split(text,separator):\n",
        "    return text.split(separator)\n",
        "\n",
        "def perform_partition(text,string):\n",
        "    return text.partition(string)\n",
        "\n",
        "def perform_replace(text,oldval,newval):\n",
        "    return text.replace(oldval,newval)\n",
        "\n",
        "def perform_strip(text):\n",
        "    return text.strip()\n",
        "\n",
        "def perform_maketrans(x,y):\n",
        "    return str.maketrans(x, y)\n",
        "\n",
        "def perform_translate(text,x,y):\n",
        "    return text.translate(perform_maketrans(x,y))\n",
        "\n",
        "def main():\n",
        "  while True:\n",
        "        print(\"\\nBasic Text Manipulator\")\n",
        "        print(\"1. Convert text to uppercase\")\n",
        "        print(\"2. Find if text is alphanumeric\")\n",
        "        print(\"3. Find if text endswith\")\n",
        "        print(\"4. Center Align\")\n",
        "        print(\"5. Count the occurnace\")\n",
        "        print(\"6. Find Index\")\n",
        "        print(\"7. Perform Join\")\n",
        "        print(\"8. Perform Split\")\n",
        "        print(\"9. Perform Partition\")\n",
        "        print(\"10. Perform Replace\")\n",
        "        print(\"11. Perform Strip\")\n",
        "        print(\"12. Perform Translate\")\n",
        "        print(\"13. Exit\")\n",
        "\n",
        "        choice = input(\"Enter your choice: \")\n",
        "\n",
        "        if choice == '13':\n",
        "            break\n",
        "\n",
        "        if choice == '1':\n",
        "          text = \"python text manipulator project\"\n",
        "          result = to_upper(text)\n",
        "          print(f\"Result:{result}\")\n",
        "\n",
        "        elif choice == '2':\n",
        "          text = \"python text manipulator project\"\n",
        "          result = find_isalnum(text)\n",
        "          print(f\"Result:{result}\")\n",
        "        elif choice == '3':\n",
        "          text = \"python text manipulator projec.t\"\n",
        "          result = find_endswith(text,\".\")\n",
        "          print(f\"Result:{result}\")\n",
        "        elif choice == '4':\n",
        "          text = \"python text manipulator project\"\n",
        "          result = align_center(text,100)\n",
        "          print(f\"Result:{result}\")\n",
        "        elif choice == '5':\n",
        "          text = \"python text manipulator project. this project is amazing\"\n",
        "          result = count_occurance(text,\"project\")\n",
        "          print(f\"Result:{result}\")\n",
        "        elif choice == '6':\n",
        "          text = \"python text manipulator project\"\n",
        "          result = find_index(text,\"manipulator\")\n",
        "          print(f\"Result:{result}\")\n",
        "        elif choice == '7':\n",
        "          text = \"python text manipulator project\"\n",
        "          result = perform_join(text,\"_\")\n",
        "          print(f\"Result:{result}\")\n",
        "        elif choice == '8':\n",
        "          text = \"python text manipulator project ! this project is amazing\"\n",
        "          result = perform_split(text,\"!\")\n",
        "          print(f\"Result:{result}\")\n",
        "        elif choice == '9':\n",
        "          text = \"python text manipulator project\"\n",
        "          result = perform_partition(text,\"!\")\n",
        "          print(f\"Result:{result}\")\n",
        "        elif choice == '10':\n",
        "          text = \"python text manipulator project\"\n",
        "          result = perform_replace(text,\"text\",\"data\")\n",
        "          print(f\"Result:{result}\")\n",
        "        elif choice == '11':\n",
        "          text = \"                      text manipulator           \"\n",
        "          result = perform_strip(text)\n",
        "          print(f\"Result:{result}\")\n",
        "        elif choice == '12':\n",
        "          text = \"Text Program\"\n",
        "          x = \"exTt\"\n",
        "          y = \"atDe\"\n",
        "          result = perform_translate(text,x,y)\n",
        "          print(f\"Result:{result}\")\n",
        "\n",
        "        else:\n",
        "            print(\"Invalid choice, please try again.\")\n",
        "\n",
        "if __name__ == \"__main__\":\n",
        "    main()\n"
      ]
    },
    {
      "cell_type": "code",
      "execution_count": null,
      "metadata": {
        "id": "VFPjzXdmaXra"
      },
      "outputs": [],
      "source": [
        "text = \"Hi there! This is a text-manipulator project\"\n",
        "cleaned_text = (text)\n",
        "print(cleaned_text)"
      ]
    },
    {
      "cell_type": "markdown",
      "metadata": {
        "id": "uCnKGKcjaEDS"
      },
      "source": [
        "Advanced Features:Text Manipulator"
      ]
    },
    {
      "cell_type": "code",
      "execution_count": null,
      "metadata": {
        "colab": {
          "base_uri": "https://localhost:8080/"
        },
        "id": "mh3LbX-Yimvy",
        "outputId": "d16869da-bb8d-4dec-c20e-094a4e8587a0"
      },
      "outputs": [
        {
          "name": "stdout",
          "output_type": "stream",
          "text": [
            "Hi there This is a textmanipulator project\n"
          ]
        }
      ],
      "source": [
        "#remove punctutatio\n",
        "import string\n",
        "def remove_punctuation(text):\n",
        "  return text.translate(str.maketrans('','',string.punctuation))\n",
        "\n",
        "text = \"Hi there! This is a text-manipulator project\"\n",
        "cleaned_text = remove_punctuation(text)\n",
        "print(cleaned_text)\n",
        "\n"
      ]
    },
    {
      "cell_type": "code",
      "execution_count": null,
      "metadata": {
        "colab": {
          "base_uri": "https://localhost:8080/"
        },
        "id": "sKvqlG5SlE78",
        "outputId": "b901431d-af66-48bd-943b-5de7b24e0a5b"
      },
      "outputs": [
        {
          "name": "stdout",
          "output_type": "stream",
          "text": [
            "[('text', 'manipulator'), ('fun', 'filled')]\n"
          ]
        }
      ],
      "source": [
        "#find_all_matches\n",
        "import re\n",
        "def find_all_matches(text,pattern):\n",
        "  return re.findall(pattern,text)\n",
        "\n",
        "text = \"Hi there! This is a text-manipulator project. This project will be fun-filled.\"\n",
        "pattern = r'(\\b\\w+\\b)-(\\b\\w+\\b)'\n",
        "cleaned_text = find_all_matches(text,pattern)\n",
        "print(cleaned_text)"
      ]
    },
    {
      "cell_type": "code",
      "execution_count": null,
      "metadata": {
        "colab": {
          "base_uri": "https://localhost:8080/"
        },
        "id": "HCGrB5rOlWxB",
        "outputId": "735c8528-2006-4a89-d6b1-bdd7b09061a5"
      },
      "outputs": [
        {
          "name": "stdout",
          "output_type": "stream",
          "text": [
            "Hi there! This is a on-line project. This project will be on-line.\n"
          ]
        }
      ],
      "source": [
        "#replace_all_matches\n",
        "def replace_all_matches(text,pattern,replacement):\n",
        "  return re.sub(pattern,replacement,text)\n",
        "\n",
        "text = \"Hi there! This is a text-manipulator project. This project will be fun-filled.\"\n",
        "pattern = r'(\\b\\w+\\b)-(\\b\\w+\\b)'\n",
        "replacement  = 'on-line'\n",
        "cleaned_text = replace_all_matches(text,pattern,replacement)\n",
        "print(cleaned_text)\n",
        "\n"
      ]
    },
    {
      "cell_type": "code",
      "execution_count": null,
      "metadata": {
        "colab": {
          "base_uri": "https://localhost:8080/"
        },
        "id": "gumKMLwmmcSj",
        "outputId": "0a0613a1-e4b0-4db8-e4ea-8aabcc982e4a"
      },
      "outputs": [
        {
          "name": "stdout",
          "output_type": "stream",
          "text": [
            "['Hi there! This is a ', ' project. This project will be ', '.']\n"
          ]
        }
      ],
      "source": [
        "#split_by_pattern\n",
        "import re\n",
        "def split_by_pattern(text,pattern):\n",
        "  return re.split(pattern,text)\n",
        "\n",
        "text = \"Hi there! This is a text-manipulator project. This project will be fun-filled.\"\n",
        "pattern = r'\\b\\w+\\b-\\b\\w+\\b'\n",
        "cleaned_text = split_by_pattern(text,pattern)\n",
        "print(cleaned_text)\n",
        "\n",
        "\n"
      ]
    },
    {
      "cell_type": "code",
      "execution_count": null,
      "metadata": {
        "colab": {
          "base_uri": "https://localhost:8080/"
        },
        "id": "6SZSjXL0nnpO",
        "outputId": "739c0130-e0ac-427b-d474-39b61ed00780"
      },
      "outputs": [
        {
          "name": "stdout",
          "output_type": "stream",
          "text": [
            "['is', 'project']\n"
          ]
        }
      ],
      "source": [
        "#extract specific groups\n",
        "def extract_specific_groups(text,pattern):\n",
        "  return re.findall(pattern,text)\n",
        "\n",
        "text = \"Hi there! This is a text-manipulator project. This project will be fun-filled.\"\n",
        "pattern = r'\\bThis (\\w+)\\b'\n",
        "cleaned_text = extract_specific_groups(text,pattern)\n",
        "print(cleaned_text)"
      ]
    },
    {
      "cell_type": "code",
      "execution_count": null,
      "metadata": {
        "colab": {
          "base_uri": "https://localhost:8080/"
        },
        "id": "dZVik2pFonhE",
        "outputId": "b1cbb756-f135-4775-c057-f071b7d511a3"
      },
      "outputs": [
        {
          "name": "stdout",
          "output_type": "stream",
          "text": [
            "True\n"
          ]
        }
      ],
      "source": [
        "#validate format\n",
        "def validate_format(text,pattern):\n",
        "  return bool(re.search(pattern,text))\n",
        "\n",
        "text = \"Hi there! This is a text-manipulator project. This project will be fun.\"\n",
        "pattern = r'\\bThis (\\w+)\\b'\n",
        "cleaned_text = validate_format(text,pattern)\n",
        "print(cleaned_text)\n",
        "\n",
        "\n"
      ]
    },
    {
      "cell_type": "code",
      "execution_count": null,
      "metadata": {
        "colab": {
          "base_uri": "https://localhost:8080/"
        },
        "id": "3LfA9V0gpj2A",
        "outputId": "49725052-2b84-45a7-b28e-e23246468444"
      },
      "outputs": [
        {
          "name": "stdout",
          "output_type": "stream",
          "text": [
            "Hi there This is a textmanipulator project This project will be fun\n"
          ]
        }
      ],
      "source": [
        "#remove_non_alphanumeric\n",
        "def remove_non_alphanumeric(text):\n",
        "  return re.sub(pattern,replacement,text)\n",
        "\n",
        "text = \"Hi there! This is a text-manipulator project. This project will be fun.\"\n",
        "pattern = r'[^a-zA-Z0-9\\s]'\n",
        "replacement = ''\n",
        "cleaned_text = remove_non_alphanumeric(text)\n",
        "print(cleaned_text)"
      ]
    },
    {
      "cell_type": "code",
      "execution_count": null,
      "metadata": {
        "colab": {
          "base_uri": "https://localhost:8080/"
        },
        "id": "YGfTVMuusIx_",
        "outputId": "c0934285-ace6-4c11-a9fe-70e522c189bb"
      },
      "outputs": [
        {
          "name": "stdout",
          "output_type": "stream",
          "text": [
            "['Hi there.', 'This is a text-manipulator project.', 'This project will be fun.']\n"
          ]
        }
      ],
      "source": [
        "#search multiline pattern\n",
        "def search_multiline_pattern(text,pattern):\n",
        "  return re.findall(pattern,text,re.MULTILINE|re.DOTALL)\n",
        "\n",
        "text = \"\"\"Hi there.\n",
        "This is a text-manipulator project.\n",
        "This project will be fun.\"\"\"\n",
        "\n",
        "pattern = r'^\\w.*?\\.'\n",
        "cleaned_text = search_multiline_pattern(text,pattern)\n",
        "print(cleaned_text)"
      ]
    },
    {
      "cell_type": "code",
      "execution_count": null,
      "metadata": {
        "colab": {
          "base_uri": "https://localhost:8080/"
        },
        "id": "Tnw0BFuHwnob",
        "outputId": "8859a552-94a9-445b-c952-ab5b842d67b7"
      },
      "outputs": [
        {
          "name": "stdout",
          "output_type": "stream",
          "text": [
            "2\n"
          ]
        }
      ],
      "source": [
        "#count_word_occurances:\n",
        "def count_word_occurances(text,word):\n",
        "  return text.lower().split().count(word.lower())\n",
        "\n",
        "text = \"Hi there! This is a text-manipulator project . This project will be fun.\"\n",
        "cleaned_text = count_word_occurances(text,\"project\")\n",
        "print(cleaned_text)\n",
        "\n",
        "\n",
        "\n",
        "\n",
        "\n"
      ]
    },
    {
      "cell_type": "code",
      "execution_count": null,
      "metadata": {
        "colab": {
          "base_uri": "https://localhost:8080/"
        },
        "id": "7QOUk2LgyGYv",
        "outputId": "508fe09d-60ce-4fd9-8b7b-f700b8a63d40"
      },
      "outputs": [
        {
          "name": "stdout",
          "output_type": "stream",
          "text": [
            "[37, 52]\n"
          ]
        }
      ],
      "source": [
        "#find_word_position\n",
        "def find_word_position(text,word):\n",
        "  return [m.start() for m in re.finditer(word,text)]\n",
        "\n",
        "\n",
        "text = \"Hi there! This is a text-manipulator project . This project will be fun.\"\n",
        "cleaned_text = find_word_position(text,\"project\")\n",
        "print(cleaned_text)\n"
      ]
    },
    {
      "cell_type": "code",
      "execution_count": null,
      "metadata": {
        "id": "Xa2TxL3_36Wx"
      },
      "outputs": [],
      "source": [
        "from google.colab import files\n",
        "uploaded = files.upload()\n",
        "\n",
        "def read_file(uploaded):\n",
        "    with open(uploaded, 'r') as file:\n",
        "        return file.read()\n",
        "\n",
        "def write_file(uploaded, text):\n",
        "    with open(uploaded, 'w') as file:\n",
        "        file.write(text)\n",
        "\n",
        "\n",
        "filename = next(iter(uploaded))\n",
        "text = read_file(filename)\n",
        "\n",
        "pattern = input(\"Enter the regex pattern to find: \")\n",
        "matches = find_all_matches(text, pattern)\n",
        "print(f\"Matches found: {matches}\")\n",
        "\n",
        "\n",
        " write_file('output1.txt',f\"Original Text:\\n{text}\\n\\Replaced text:\\n{result}\")\n",
        "files.download('output1.txt')"
      ]
    },
    {
      "cell_type": "markdown",
      "metadata": {
        "id": "Mb-Nbo_d3me_"
      },
      "source": [
        "Fully Functional Text Manipulator"
      ]
    },
    {
      "cell_type": "code",
      "execution_count": null,
      "metadata": {
        "colab": {
          "background_save": true,
          "base_uri": "https://localhost:8080/",
          "height": 692
        },
        "id": "oc47PMT9pNv1",
        "outputId": "bb814691-61ef-4990-de8c-6fedf814c854"
      },
      "outputs": [
        {
          "data": {
            "text/html": [
              "\n",
              "     <input type=\"file\" id=\"files-78758d06-d51d-4076-9898-6620d4471a64\" name=\"files[]\" multiple disabled\n",
              "        style=\"border:none\" />\n",
              "     <output id=\"result-78758d06-d51d-4076-9898-6620d4471a64\">\n",
              "      Upload widget is only available when the cell has been executed in the\n",
              "      current browser session. Please rerun this cell to enable.\n",
              "      </output>\n",
              "      <script>// Copyright 2017 Google LLC\n",
              "//\n",
              "// Licensed under the Apache License, Version 2.0 (the \"License\");\n",
              "// you may not use this file except in compliance with the License.\n",
              "// You may obtain a copy of the License at\n",
              "//\n",
              "//      http://www.apache.org/licenses/LICENSE-2.0\n",
              "//\n",
              "// Unless required by applicable law or agreed to in writing, software\n",
              "// distributed under the License is distributed on an \"AS IS\" BASIS,\n",
              "// WITHOUT WARRANTIES OR CONDITIONS OF ANY KIND, either express or implied.\n",
              "// See the License for the specific language governing permissions and\n",
              "// limitations under the License.\n",
              "\n",
              "/**\n",
              " * @fileoverview Helpers for google.colab Python module.\n",
              " */\n",
              "(function(scope) {\n",
              "function span(text, styleAttributes = {}) {\n",
              "  const element = document.createElement('span');\n",
              "  element.textContent = text;\n",
              "  for (const key of Object.keys(styleAttributes)) {\n",
              "    element.style[key] = styleAttributes[key];\n",
              "  }\n",
              "  return element;\n",
              "}\n",
              "\n",
              "// Max number of bytes which will be uploaded at a time.\n",
              "const MAX_PAYLOAD_SIZE = 100 * 1024;\n",
              "\n",
              "function _uploadFiles(inputId, outputId) {\n",
              "  const steps = uploadFilesStep(inputId, outputId);\n",
              "  const outputElement = document.getElementById(outputId);\n",
              "  // Cache steps on the outputElement to make it available for the next call\n",
              "  // to uploadFilesContinue from Python.\n",
              "  outputElement.steps = steps;\n",
              "\n",
              "  return _uploadFilesContinue(outputId);\n",
              "}\n",
              "\n",
              "// This is roughly an async generator (not supported in the browser yet),\n",
              "// where there are multiple asynchronous steps and the Python side is going\n",
              "// to poll for completion of each step.\n",
              "// This uses a Promise to block the python side on completion of each step,\n",
              "// then passes the result of the previous step as the input to the next step.\n",
              "function _uploadFilesContinue(outputId) {\n",
              "  const outputElement = document.getElementById(outputId);\n",
              "  const steps = outputElement.steps;\n",
              "\n",
              "  const next = steps.next(outputElement.lastPromiseValue);\n",
              "  return Promise.resolve(next.value.promise).then((value) => {\n",
              "    // Cache the last promise value to make it available to the next\n",
              "    // step of the generator.\n",
              "    outputElement.lastPromiseValue = value;\n",
              "    return next.value.response;\n",
              "  });\n",
              "}\n",
              "\n",
              "/**\n",
              " * Generator function which is called between each async step of the upload\n",
              " * process.\n",
              " * @param {string} inputId Element ID of the input file picker element.\n",
              " * @param {string} outputId Element ID of the output display.\n",
              " * @return {!Iterable<!Object>} Iterable of next steps.\n",
              " */\n",
              "function* uploadFilesStep(inputId, outputId) {\n",
              "  const inputElement = document.getElementById(inputId);\n",
              "  inputElement.disabled = false;\n",
              "\n",
              "  const outputElement = document.getElementById(outputId);\n",
              "  outputElement.innerHTML = '';\n",
              "\n",
              "  const pickedPromise = new Promise((resolve) => {\n",
              "    inputElement.addEventListener('change', (e) => {\n",
              "      resolve(e.target.files);\n",
              "    });\n",
              "  });\n",
              "\n",
              "  const cancel = document.createElement('button');\n",
              "  inputElement.parentElement.appendChild(cancel);\n",
              "  cancel.textContent = 'Cancel upload';\n",
              "  const cancelPromise = new Promise((resolve) => {\n",
              "    cancel.onclick = () => {\n",
              "      resolve(null);\n",
              "    };\n",
              "  });\n",
              "\n",
              "  // Wait for the user to pick the files.\n",
              "  const files = yield {\n",
              "    promise: Promise.race([pickedPromise, cancelPromise]),\n",
              "    response: {\n",
              "      action: 'starting',\n",
              "    }\n",
              "  };\n",
              "\n",
              "  cancel.remove();\n",
              "\n",
              "  // Disable the input element since further picks are not allowed.\n",
              "  inputElement.disabled = true;\n",
              "\n",
              "  if (!files) {\n",
              "    return {\n",
              "      response: {\n",
              "        action: 'complete',\n",
              "      }\n",
              "    };\n",
              "  }\n",
              "\n",
              "  for (const file of files) {\n",
              "    const li = document.createElement('li');\n",
              "    li.append(span(file.name, {fontWeight: 'bold'}));\n",
              "    li.append(span(\n",
              "        `(${file.type || 'n/a'}) - ${file.size} bytes, ` +\n",
              "        `last modified: ${\n",
              "            file.lastModifiedDate ? file.lastModifiedDate.toLocaleDateString() :\n",
              "                                    'n/a'} - `));\n",
              "    const percent = span('0% done');\n",
              "    li.appendChild(percent);\n",
              "\n",
              "    outputElement.appendChild(li);\n",
              "\n",
              "    const fileDataPromise = new Promise((resolve) => {\n",
              "      const reader = new FileReader();\n",
              "      reader.onload = (e) => {\n",
              "        resolve(e.target.result);\n",
              "      };\n",
              "      reader.readAsArrayBuffer(file);\n",
              "    });\n",
              "    // Wait for the data to be ready.\n",
              "    let fileData = yield {\n",
              "      promise: fileDataPromise,\n",
              "      response: {\n",
              "        action: 'continue',\n",
              "      }\n",
              "    };\n",
              "\n",
              "    // Use a chunked sending to avoid message size limits. See b/62115660.\n",
              "    let position = 0;\n",
              "    do {\n",
              "      const length = Math.min(fileData.byteLength - position, MAX_PAYLOAD_SIZE);\n",
              "      const chunk = new Uint8Array(fileData, position, length);\n",
              "      position += length;\n",
              "\n",
              "      const base64 = btoa(String.fromCharCode.apply(null, chunk));\n",
              "      yield {\n",
              "        response: {\n",
              "          action: 'append',\n",
              "          file: file.name,\n",
              "          data: base64,\n",
              "        },\n",
              "      };\n",
              "\n",
              "      let percentDone = fileData.byteLength === 0 ?\n",
              "          100 :\n",
              "          Math.round((position / fileData.byteLength) * 100);\n",
              "      percent.textContent = `${percentDone}% done`;\n",
              "\n",
              "    } while (position < fileData.byteLength);\n",
              "  }\n",
              "\n",
              "  // All done.\n",
              "  yield {\n",
              "    response: {\n",
              "      action: 'complete',\n",
              "    }\n",
              "  };\n",
              "}\n",
              "\n",
              "scope.google = scope.google || {};\n",
              "scope.google.colab = scope.google.colab || {};\n",
              "scope.google.colab._files = {\n",
              "  _uploadFiles,\n",
              "  _uploadFilesContinue,\n",
              "};\n",
              "})(self);\n",
              "</script> "
            ],
            "text/plain": [
              "<IPython.core.display.HTML object>"
            ]
          },
          "metadata": {},
          "output_type": "display_data"
        },
        {
          "name": "stdout",
          "output_type": "stream",
          "text": [
            "Saving input.txt to input.txt\n",
            "\n",
            "Advanced Text Manipulator\n",
            "1. Convert text to lowercase\n",
            "2. Convert text to uppercase\n",
            "3. Remove punctuation\n",
            "4. Find all matches of a pattern\n",
            "5. Replace all matches of a pattern\n",
            "6. Split a string by a pattern\n",
            "7. Extract specific groups\n",
            "8. Validate string format\n",
            "9. Remove non-alphanumeric characters\n",
            "10. Search for multiline patterns\n",
            "11. Count occurrences of a word\n",
            "12. Find the position of a word\n",
            "13. Exit\n",
            "Invalid choice, please try again.\n",
            "\n",
            "Advanced Text Manipulator\n",
            "1. Convert text to lowercase\n",
            "2. Convert text to uppercase\n",
            "3. Remove punctuation\n",
            "4. Find all matches of a pattern\n",
            "5. Replace all matches of a pattern\n",
            "6. Split a string by a pattern\n",
            "7. Extract specific groups\n",
            "8. Validate string format\n",
            "9. Remove non-alphanumeric characters\n",
            "10. Search for multiline patterns\n",
            "11. Count occurrences of a word\n",
            "12. Find the position of a word\n",
            "13. Exit\n"
          ]
        }
      ],
      "source": [
        "#import the required libraries\n",
        "import re\n",
        "import string\n",
        "\n",
        "#code to upload the file\n",
        "from google.colab import files\n",
        "uploaded = files.upload()\n",
        "\n",
        "#read the file\n",
        "def read_file(uploaded):\n",
        "    with open(uploaded, 'r') as file:\n",
        "        return file.read()\n",
        "\n",
        "#write to the file\n",
        "def write_file(uploaded, text):\n",
        "    with open(uploaded, 'w') as file:\n",
        "        file.write(text)\n",
        "\n",
        "#basic and advanced features\n",
        "def to_lowercase(text):\n",
        "    return text.lower()\n",
        "\n",
        "def to_uppercase(text):\n",
        "    return text.upper()\n",
        "\n",
        "def remove_punctuation(text):\n",
        "    return text.translate(str.maketrans('', '', string.punctuation))\n",
        "\n",
        "def find_all_matches(text, pattern):\n",
        "    return re.findall(pattern, text)\n",
        "\n",
        "def replace_all_matches(text, pattern, replacement):\n",
        "    return re.sub(pattern, replacement, text)\n",
        "\n",
        "def split_by_pattern(text, pattern):\n",
        "    return re.split(pattern, text)\n",
        "\n",
        "def extract_specific_groups(text, pattern):\n",
        "    return re.findall(pattern, text)\n",
        "\n",
        "def validate_format(text, pattern):\n",
        "    return bool(re.search(pattern, text))\n",
        "\n",
        "def remove_non_alphanumeric(text):\n",
        "    return re.sub(r'[^a-zA-Z0-9\\s]', '', text)\n",
        "\n",
        "def search_multiline_pattern(text, pattern):\n",
        "    return re.findall(pattern, text, re.MULTILINE | re.DOTALL)\n",
        "\n",
        "def count_word_occurrences(text, word):\n",
        "    return text.lower().split().count(word.lower())\n",
        "\n",
        "def find_word_position(text, word):\n",
        "    return [m.start() for m in re.finditer(word, text)]\n",
        "\n",
        "def main():\n",
        "\n",
        "    filename = next(iter(uploaded))\n",
        "    text = read_file(filename)\n",
        "\n",
        "    while True:\n",
        "        print(\"\\nAdvanced Text Manipulator\")\n",
        "        print(\"1. Convert text to lowercase\")\n",
        "        print(\"2. Convert text to uppercase\")\n",
        "        print(\"3. Remove punctuation\")\n",
        "        print(\"4. Find all matches of a pattern\")\n",
        "        print(\"5. Replace all matches of a pattern\")\n",
        "        print(\"6. Split a string by a pattern\")\n",
        "        print(\"7. Extract specific groups\")\n",
        "        print(\"8. Validate string format\")\n",
        "        print(\"9. Remove non-alphanumeric characters\")\n",
        "        print(\"10. Search for multiline patterns\")\n",
        "        print(\"11. Count occurrences of a word\")\n",
        "        print(\"12. Find the position of a word\")\n",
        "        print(\"13. Exit\")\n",
        "\n",
        "        choice = input(\"Enter your choice: \")\n",
        "\n",
        "        if choice == '13':\n",
        "            break\n",
        "\n",
        "        if choice == '1':\n",
        "            result = to_lowercase(text)\n",
        "            print(f\"Lowercased text: {result}\")\n",
        "        elif choice == '2':\n",
        "          result = to_uppercase(text)\n",
        "          print(f\"Uppercased text: {result}\")\n",
        "        elif choice == '3':\n",
        "          result = remove_punctuation(text)\n",
        "          print(f\"Text without the punctuation: {result}\")\n",
        "        elif choice == '4':\n",
        "          pattern = input(\"Enter the regex pattern to find: \")\n",
        "          matches = find_all_matches(text, pattern)\n",
        "          print(f\"Matches found: {matches}\")\n",
        "        elif choice == '5':\n",
        "          pattern = input(\"Enter the regex pattern to replace: \")\n",
        "          replacement = input(\"Enter the replacement string: \")\n",
        "          result = replace_all_matches(text, pattern,replacement)\n",
        "          write_file('output1.txt',f\"Original Text:\\n{text}\\n\\Replaced text:\\n{result}\")\n",
        "          files.download('output1.txt')\n",
        "        elif choice == '6':\n",
        "          pattern = input(\"Enter the regex pattern to split by: \")\n",
        "          parts = split_by_pattern(text, pattern)\n",
        "          print(f\"Split parts: {parts}\")\n",
        "        elif choice == '7':\n",
        "          pattern = input(\"Enter pattern with groups to extract: \")\n",
        "          groups = extract_specific_groups(text, pattern)\n",
        "          print(f\"Extracted Groups: {groups}\")\n",
        "        elif choice == '8':\n",
        "          pattern = input(\"Enter the regex pattern for validation: \")\n",
        "          is_valid = validate_format(text, pattern)\n",
        "          print(f\"Strinf format valid: {is_valid}\")\n",
        "        elif choice == '9':\n",
        "          result = remove_non_alphanumeric(text)\n",
        "          write_file('output2.txt',f\"Original Text:\\n{text}\\n\\Replaced text:\\n{result}\")\n",
        "          files.download('output2.txt')\n",
        "        elif choice == '10':\n",
        "          pattern = input(\"Enter the regex pattern to search(supports multiline): \")\n",
        "          matches = search_multiline_pattern(text, pattern)\n",
        "          print(f\"Matches found: {matches}\")\n",
        "        elif choice == '11':\n",
        "          word = input(\"Enter the word to count: \")\n",
        "          count = count_word_occurances(text, word)\n",
        "          print(f\" '{word}' occurs {count} times\")\n",
        "        elif choice == '12':\n",
        "          word = input(\"Enter the word to find: \")\n",
        "          positions = find_word_position(text, word)\n",
        "          print(f\"Position of '{word}' : {positions}\")\n",
        "        else:\n",
        "            print(\"Invalid choice, please try again.\")\n",
        "\n",
        "if __name__ == \"__main__\":\n",
        "    main()\n"
      ]
    }
  ],
  "metadata": {
    "colab": {
      "provenance": []
    },
    "kernelspec": {
      "display_name": "Python 3",
      "name": "python3"
    },
    "language_info": {
      "name": "python"
    }
  },
  "nbformat": 4,
  "nbformat_minor": 0
}