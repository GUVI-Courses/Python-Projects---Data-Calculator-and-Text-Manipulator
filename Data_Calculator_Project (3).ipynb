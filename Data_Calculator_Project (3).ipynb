{
  "nbformat": 4,
  "nbformat_minor": 0,
  "metadata": {
    "colab": {
      "provenance": []
    },
    "kernelspec": {
      "name": "python3",
      "display_name": "Python 3"
    },
    "language_info": {
      "name": "python"
    }
  },
  "cells": [
    {
      "cell_type": "code",
      "execution_count": null,
      "metadata": {
        "id": "aFqrIjerCUhg"
      },
      "outputs": [],
      "source": []
    },
    {
      "cell_type": "markdown",
      "source": [
        "Addition Operation"
      ],
      "metadata": {
        "id": "2-Yb8q_ECqv9"
      }
    },
    {
      "cell_type": "code",
      "source": [
        "def add(numbers):\n",
        "  result = numbers[0]\n",
        "  for num in numbers[1:]:\n",
        "    result += num\n",
        "  return result\n",
        "\n",
        "count = int(input(\"Enter how many numbers to be added:\"))\n",
        "numbers = []\n",
        "for i in range(count):\n",
        "  number = float(input(f\"Enter number{i+1}:\"))\n",
        "  numbers.append(number)\n",
        "print(\"Result of Additon:\", add(numbers))"
      ],
      "metadata": {
        "colab": {
          "base_uri": "https://localhost:8080/"
        },
        "id": "NpY2tS77Ctp4",
        "outputId": "cefeffed-3b69-4c21-9f5d-ccc64d0df13e"
      },
      "execution_count": null,
      "outputs": [
        {
          "output_type": "stream",
          "name": "stdout",
          "text": [
            "Enter how many numbers to be added:5\n",
            "Enter number1:2\n",
            "Enter number2:3\n",
            "Enter number3:2\n",
            "Enter number4:5\n",
            "Enter number5:4\n",
            "Result of Additon: 16.0\n"
          ]
        }
      ]
    },
    {
      "cell_type": "markdown",
      "source": [
        "Subtractin Operation"
      ],
      "metadata": {
        "id": "3AXw4FEZEJzm"
      }
    },
    {
      "cell_type": "code",
      "source": [
        "def subtract(numbers):\n",
        "  result = numbers[0]\n",
        "  for num in numbers[1:]:\n",
        "    result -= num\n",
        "  return result\n",
        "\n",
        "count = int(input(\"Enter how many numbers to be subtracted:\"))\n",
        "numbers = []\n",
        "for i in range(count):\n",
        "  number = float(input(f\"Enter number{i+1}:\"))\n",
        "  numbers.append(number)\n",
        "print(\"Result of Subtraction:\", subtract(numbers))"
      ],
      "metadata": {
        "colab": {
          "base_uri": "https://localhost:8080/"
        },
        "id": "vM7teasQEMH2",
        "outputId": "9ffc1c58-5e0b-4d55-f3fa-ee39e55c3e1b"
      },
      "execution_count": null,
      "outputs": [
        {
          "output_type": "stream",
          "name": "stdout",
          "text": [
            "Enter how many numbers to be subtracted:5\n",
            "Enter number1:10\n",
            "Enter number2:5\n",
            "Enter number3:2\n",
            "Enter number4:3\n",
            "Enter number5:1\n",
            "Result of Subtraction: -1.0\n"
          ]
        }
      ]
    },
    {
      "cell_type": "markdown",
      "source": [
        "Multiplication Operation"
      ],
      "metadata": {
        "id": "wduexmVQEkHE"
      }
    },
    {
      "cell_type": "code",
      "source": [
        "def multiply(numbers):\n",
        "  result = numbers[0]\n",
        "  for num in numbers[1:]:\n",
        "    result *= num\n",
        "  return result\n",
        "\n",
        "count = int(input(\"Enter how many numbers to be multiplied:\"))\n",
        "numbers = []\n",
        "for i in range(count):\n",
        "  number = float(input(f\"Enter number{i+1}:\"))\n",
        "  numbers.append(number)\n",
        "print(\"Result of Multiplication:\", multiply(numbers))"
      ],
      "metadata": {
        "colab": {
          "base_uri": "https://localhost:8080/"
        },
        "id": "XOrInssAEnXY",
        "outputId": "721b060a-6290-4315-8cf6-3706ca0b7dae"
      },
      "execution_count": null,
      "outputs": [
        {
          "output_type": "stream",
          "name": "stdout",
          "text": [
            "Enter how many numbers to be multiplied:5\n",
            "Enter number1:2\n",
            "Enter number2:5\n",
            "Enter number3:2\n",
            "Enter number4:2\n",
            "Enter number5:1\n",
            "Result of Multiplication: 40.0\n"
          ]
        }
      ]
    },
    {
      "cell_type": "markdown",
      "source": [
        "Division Operation"
      ],
      "metadata": {
        "id": "TjUOWnRNE5pV"
      }
    },
    {
      "cell_type": "code",
      "source": [
        "def divide(num1,num2):\n",
        "  if num2 != 0:\n",
        "    return num1/num2\n",
        "  else:\n",
        "    return \"Error! Divide by Zero\"\n",
        "\n",
        "num1 = float(input(\"Enter the first number:\"))\n",
        "num2 = float(input(\"Enter the second number:\"))\n",
        "print(\"Result of Division:\",divide(num1,num2))"
      ],
      "metadata": {
        "colab": {
          "base_uri": "https://localhost:8080/"
        },
        "id": "_YEr5S6yHRko",
        "outputId": "3d94e794-3a56-41a8-b7e7-e730dc4c5b37"
      },
      "execution_count": null,
      "outputs": [
        {
          "output_type": "stream",
          "name": "stdout",
          "text": [
            "Enter the first number:20\n",
            "Enter the second number:0\n",
            "Result of Division: Error! Divide by Zero\n"
          ]
        }
      ]
    },
    {
      "cell_type": "markdown",
      "source": [
        "Data Calculator with Basic Operations"
      ],
      "metadata": {
        "id": "xDgNKRxnO2vg"
      }
    },
    {
      "cell_type": "code",
      "source": [
        "def add(numbers):\n",
        "    result = numbers[0]\n",
        "    for num in numbers[1:]:\n",
        "        result += num\n",
        "    return result\n",
        "\n",
        "def subtract(numbers):\n",
        "    result = numbers[0]\n",
        "    for num in numbers[1:]:\n",
        "        result -= num\n",
        "    return result\n",
        "\n",
        "def multiply(numbers):\n",
        "    result = numbers[0]\n",
        "    for num in numbers[1:]:\n",
        "        result =result * num\n",
        "    return result\n",
        "\n",
        "def divide(num1,num2):\n",
        "    if num2 != 0:\n",
        "        return num1 / num2\n",
        "    else:\n",
        "        return \"Error! Division by zero.\"\n",
        "\n",
        "def main():\n",
        "    while True:\n",
        "        print(\"\\nWelcome to the Data Calculator:\")\n",
        "        print(\"1. Add\")\n",
        "        print(\"2. Subtract\")\n",
        "        print(\"3. Multiply\")\n",
        "        print(\"4. Divide\")\n",
        "        print(\"5. Exit\")\n",
        "\n",
        "        choice = input(\"Enter choice: \")\n",
        "\n",
        "        if choice == '5':\n",
        "            print(\"Exiting the calculator. Goodbye!\")\n",
        "            break\n",
        "\n",
        "        if choice in ['1', '2', '3']:\n",
        "            count = int(input(\"How many numbers:\"))\n",
        "            numbers = []\n",
        "            for i in range(count):\n",
        "              number = float(input(f\"Enter number {i+1}: \"))\n",
        "              numbers.append(number)\n",
        "\n",
        "            if choice == '1':\n",
        "                print(\"Result of Addition is:\", add(numbers))\n",
        "            elif choice == '2':\n",
        "                print(\"Result of Subtraction is:\", subtract(numbers))\n",
        "            elif choice == '3':\n",
        "                print(\"Result of Multiplication is:\", multiply(numbers))\n",
        "        elif choice == '4':\n",
        "              num1 = float(input(\"Enter the first number: \"))\n",
        "              num2 = float(input(\"Enter the second number: \"))\n",
        "              print(\"Result of Division is:\", divide(num1, num2))\n",
        "\n",
        "        else:\n",
        "            print(\"Invalid input\")\n",
        "\n",
        "if __name__ == \"__main__\":\n",
        "    main()"
      ],
      "metadata": {
        "colab": {
          "base_uri": "https://localhost:8080/"
        },
        "id": "_SxN5o0hTyTe",
        "outputId": "cf1e6001-ca99-4d56-c9c6-55818e019034",
        "collapsed": true
      },
      "execution_count": null,
      "outputs": [
        {
          "output_type": "stream",
          "name": "stdout",
          "text": [
            "\n",
            "Welcome to the Data Calculator:\n",
            "1. Add\n",
            "2. Subtract\n",
            "3. Multiply\n",
            "4. Divide\n",
            "5. Exit\n",
            "Enter choice: 1\n",
            "How many numbers:4\n",
            "Enter number 1: 5\n",
            "Enter number 2: 3\n",
            "Enter number 3: 2\n",
            "Enter number 4: 1\n",
            "Result of Addition is: 11.0\n",
            "\n",
            "Welcome to the Data Calculator:\n",
            "1. Add\n",
            "2. Subtract\n",
            "3. Multiply\n",
            "4. Divide\n",
            "5. Exit\n",
            "Enter choice: 2\n",
            "How many numbers:3\n",
            "Enter number 1: 10\n",
            "Enter number 2: 5\n",
            "Enter number 3: 2\n",
            "Result of Subtraction is: 3.0\n",
            "\n",
            "Welcome to the Data Calculator:\n",
            "1. Add\n",
            "2. Subtract\n",
            "3. Multiply\n",
            "4. Divide\n",
            "5. Exit\n",
            "Enter choice: 3\n",
            "How many numbers:3\n",
            "Enter number 1: 5\n",
            "Enter number 2: 2\n",
            "Enter number 3: 4\n",
            "Result of Multiplication is: 40.0\n",
            "\n",
            "Welcome to the Data Calculator:\n",
            "1. Add\n",
            "2. Subtract\n",
            "3. Multiply\n",
            "4. Divide\n",
            "5. Exit\n",
            "Enter choice: 4\n",
            "Enter the first number: 60\n",
            "Enter the second number: 2\n",
            "Result of Division is: 30.0\n",
            "\n",
            "Welcome to the Data Calculator:\n",
            "1. Add\n",
            "2. Subtract\n",
            "3. Multiply\n",
            "4. Divide\n",
            "5. Exit\n",
            "Enter choice: 4\n",
            "Enter the first number: 40\n",
            "Enter the second number: 0\n",
            "Result of Division is: Error! Division by zero.\n",
            "\n",
            "Welcome to the Data Calculator:\n",
            "1. Add\n",
            "2. Subtract\n",
            "3. Multiply\n",
            "4. Divide\n",
            "5. Exit\n",
            "Enter choice: 6\n",
            "Invalid input\n",
            "\n",
            "Welcome to the Data Calculator:\n",
            "1. Add\n",
            "2. Subtract\n",
            "3. Multiply\n",
            "4. Divide\n",
            "5. Exit\n",
            "Enter choice: 5\n",
            "Exiting the calculator. Goodbye!\n"
          ]
        }
      ]
    },
    {
      "cell_type": "code",
      "source": [
        "import math\n",
        "\n",
        "#Basic Operation\n",
        "def add(numbers):\n",
        "  result = numbers[0]\n",
        "  for num in numbers[1:]:\n",
        "    result += num\n",
        "  return result\n",
        "\n",
        "def subtract(numbers):\n",
        "  result = numbers[0]\n",
        "  for num in numbers[1:]:\n",
        "    result -= num\n",
        "  return result\n",
        "\n",
        "def multiply(numbers):\n",
        "  result = numbers[0]\n",
        "  for num in numbers[1:]:\n",
        "    result *= num\n",
        "  return result\n",
        "\n",
        "def divide(num1,num2):\n",
        "  if num2 != 0:\n",
        "    return num1/num2\n",
        "  else:\n",
        "    return \"Error ! Division by 0\"\n",
        "\n",
        "#Advance Operations\n",
        "def exponentiate(num1, num2):\n",
        "  return num1 ** num2\n",
        "\n",
        "def square(num1):\n",
        "  return num1 * num1\n",
        "\n",
        "def sqrt(num1):\n",
        "  if num1 >= 0:\n",
        "    return num1 ** 0.5\n",
        "  else:\n",
        "    return \"Error! Square Root of a negative number\"\n",
        "\n",
        "def factorial(num1):\n",
        "  if num1 < 0:\n",
        "    return \"Error! Factorial of a negative number\"\n",
        "  elif num1 == 0 or num1 == 1:\n",
        "    return 1\n",
        "  else:\n",
        "    fact = 1\n",
        "    for  i in range(1,num1 + 1):\n",
        "      fact = fact * i\n",
        "    return fact\n",
        "\n",
        "def inverse(num1):\n",
        "  if num1 != 0:\n",
        "    return 1/num1\n",
        "  else:\n",
        "    return \"Errro! Inverse of Zero\"\n",
        "\n",
        "def log_base_10(num1):\n",
        "  if num1 > 0:\n",
        "    return math.log10(num1)\n",
        "  else:\n",
        "    return \"Error! Logarithm of a non positive number\"\n",
        "\n",
        "def log_base_N(num1):\n",
        "  if num1 > 0:\n",
        "    return math.log(num1)\n",
        "  else:\n",
        "    return \"Error! Logarithm of a non positive number\"\n",
        "\n",
        "def sin(num1):\n",
        "    return math.sin(math.radians(num1))\n",
        "\n",
        "def cos(num1):\n",
        "  return math.cos(math.radians(num1))\n",
        "\n",
        "def tan(num1):\n",
        "  return math.tan(math.radians(num1))\n",
        "\n",
        "def rad_to_deg(num1):\n",
        "  return math.degrees(num1)\n",
        "\n",
        "def deg_to_rad(num1):\n",
        "  return math.radians(num1)\n",
        "\n",
        "#Ordered Menu\n",
        "def main():\n",
        "  while True:\n",
        "    print(\"\\nWelcome to the Data Calculator\")\n",
        "    print(\"1. Add\")\n",
        "    print(\"2. Subtract\")\n",
        "    print(\"3. Multiply\")\n",
        "    print(\"4. Divide\")\n",
        "    print(\"5. Exponentiation\")\n",
        "    print(\"6. Square\")\n",
        "    print(\"7. Square Root\")\n",
        "    print(\"8. Factorial\")\n",
        "    print(\"9. Inverse\")\n",
        "    print(\"10. Log to the base 10\")\n",
        "    print(\"11. Log to the base N\")\n",
        "    print(\"12. Sin\")\n",
        "    print(\"13. Cos\")\n",
        "    print(\"14. Tan\")\n",
        "    print(\"15. Radians to Degree\")\n",
        "    print(\"16. Degree to Radians\")\n",
        "    print(\"17. Exit\\n\")\n",
        "\n",
        "    #Enter the choice looking at the menu\n",
        "    choice = input(\"Enter choice:\")\n",
        "\n",
        "    #exit condition\n",
        "    if choice == '17':\n",
        "      print(\"Exiting the Calculator\")\n",
        "      break\n",
        "\n",
        "    #choices for addition,subtraction and multiplication\n",
        "    if choice in ['1','2','3']:\n",
        "      count = int(input(\"How many numbers:\"))\n",
        "      numbers =[]\n",
        "      for i in range(count):\n",
        "        number = float(input(f'Enter number{i+1}:'))\n",
        "        numbers.append(number)\n",
        "      if choice == '1'  :\n",
        "        print(\"Result of Addition is:\", add(numbers))\n",
        "      elif choice == '2'  :\n",
        "        print(\"Result of Subtraction is:\", subtract(numbers))\n",
        "      elif choice == '3'  :\n",
        "        print(\"Result of Multiplication is:\", multiply(numbers))\n",
        "\n",
        "    #division and Exponentiation operation\n",
        "    elif choice == '4' or choice == '5':\n",
        "      num1 = float(input(\"Enter the first number:\"))\n",
        "      num2 = float(input(\"Enter the second number:\"))\n",
        "      if choice == '4':\n",
        "          print(\"Result of Division\", divide(num1, num2))\n",
        "      elif choice == '5':\n",
        "          print(\"Result of Exponentiation\", exponentiate(num1, num2))\n",
        "\n",
        "    #choices for square,square root.... conversions between degrees and radians\n",
        "    elif choice in ['6','7','8','9','10','11','12','13','14','15','16']:\n",
        "      num1 = float(input(\"Enter a number:\"))\n",
        "      if choice == '6':\n",
        "        print(\"Result of Square is:\", square(num1))\n",
        "      elif choice == '7':\n",
        "        print(\"Result of Square Root is:\", sqrt(num1))\n",
        "      elif choice == '8':\n",
        "        print(\"Result of factorial is:\",factorial(int(num1)))\n",
        "      elif choice == '9':\n",
        "        print(\"Result of Inverse is:\", inverse(num1))\n",
        "      elif choice == '10':\n",
        "        print(\"Result of Log to the base 10 is:\", log_base_10(num1))\n",
        "      elif choice == '11':\n",
        "        print(\"Result of Log to the base N is:\", log_base_N(num1))\n",
        "      elif choice == '12':\n",
        "        print(\"Result of Sin is:\", sin(num1))\n",
        "      elif choice == '13':\n",
        "        print(\"Result of Cos is:\", cos(num1))\n",
        "      elif choice == '14':\n",
        "        print(\"Result of Tan is:\", tan(num1))\n",
        "      elif choice == '15':\n",
        "        print(\"Result of Radian to degree is:\", rad_to_deg(num1))\n",
        "      elif choice == '16':\n",
        "        print(\"Result of Degree to Radian is:\", deg_to_rad(num1))\n",
        "\n",
        "    else:\n",
        "      print(\"Invalid input\")\n",
        "\n",
        "if __name__ == \"__main__\":\n",
        "  main()"
      ],
      "metadata": {
        "colab": {
          "base_uri": "https://localhost:8080/"
        },
        "id": "RZa3GxGzRoTi",
        "outputId": "458c56a5-4930-4ccd-f3a5-e17608a4ebfd"
      },
      "execution_count": null,
      "outputs": [
        {
          "output_type": "stream",
          "name": "stdout",
          "text": [
            "\n",
            "Welcome to the Data Calculator\n",
            "1. Add\n",
            "2. Subtract\n",
            "3. Multiply\n",
            "4. Divide\n",
            "5. Exponentiation\n",
            "6. Square\n",
            "7. Square Root\n",
            "8. Factorial\n",
            "9. Inverse\n",
            "10. Log to the base 10\n",
            "11. Log to the base N\n",
            "12. Sin\n",
            "13. Cos\n",
            "14. Tan\n",
            "15. Radians to Degree\n",
            "16. Degree to Radians\n",
            "17. Exit\n",
            "\n",
            "Enter choice:19\n",
            "Invalid input\n",
            "\n",
            "Welcome to the Data Calculator\n",
            "1. Add\n",
            "2. Subtract\n",
            "3. Multiply\n",
            "4. Divide\n",
            "5. Exponentiation\n",
            "6. Square\n",
            "7. Square Root\n",
            "8. Factorial\n",
            "9. Inverse\n",
            "10. Log to the base 10\n",
            "11. Log to the base N\n",
            "12. Sin\n",
            "13. Cos\n",
            "14. Tan\n",
            "15. Radians to Degree\n",
            "16. Degree to Radians\n",
            "17. Exit\n",
            "\n"
          ]
        }
      ]
    },
    {
      "cell_type": "markdown",
      "source": [
        "Testing :\n",
        "\n",
        "\n",
        "\n",
        "1.   (log_base_10(15), 1.1760912590556813)\n",
        "2.   (log_base_N(15), 2.70805020110221)\n",
        "3.   ( math.sin(math.radians(10)), 0.17364817766693033,places=7)\n",
        "4.  (math.cos(math.radians(10)), 0.984807753012208,places=7)\n",
        "5.   (math.tan(math.radians(10)), 0.17632698070846498,places=7)\n",
        "6.  (rad_to_deg(1.00000), 57.2957795,places=7)\n",
        "7.  (deg_to_rad(57.2957795), 1.00000,places=7)\n",
        "8. (rad_to_deg(1.00000),                     57.29577951308232)\n",
        "9. (deg_to_rad(57.29577951308232),                 1.00000)\n",
        "\n",
        "\n",
        "\n",
        "\n",
        "\n",
        "\n"
      ],
      "metadata": {
        "id": "qAMJ8NGtc4QF"
      }
    },
    {
      "cell_type": "code",
      "source": [],
      "metadata": {
        "id": "zjjz8SpbdK43"
      },
      "execution_count": null,
      "outputs": []
    }
  ]
}